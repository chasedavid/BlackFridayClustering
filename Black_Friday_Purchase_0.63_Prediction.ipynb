{
 "cells": [
  {
   "cell_type": "code",
   "execution_count": 20,
   "metadata": {},
   "outputs": [],
   "source": [
    "from sklearn.linear_model import LinearRegression \n",
    "from sklearn.metrics import r2_score\n",
    "import pandas as pd\n",
    "import numpy as np"
   ]
  },
  {
   "cell_type": "code",
   "execution_count": 21,
   "metadata": {},
   "outputs": [],
   "source": [
    "test_csv = pd.read_csv(\"/Users/shekhar/Desktop/Bootcamp/Revision/Homework/BlackFridayClusting/data/BlackFriday.csv\")\n"
   ]
  },
  {
   "cell_type": "code",
   "execution_count": 23,
   "metadata": {},
   "outputs": [
    {
     "data": {
      "text/html": [
       "<div>\n",
       "<style scoped>\n",
       "    .dataframe tbody tr th:only-of-type {\n",
       "        vertical-align: middle;\n",
       "    }\n",
       "\n",
       "    .dataframe tbody tr th {\n",
       "        vertical-align: top;\n",
       "    }\n",
       "\n",
       "    .dataframe thead th {\n",
       "        text-align: right;\n",
       "    }\n",
       "</style>\n",
       "<table border=\"1\" class=\"dataframe\">\n",
       "  <thead>\n",
       "    <tr style=\"text-align: right;\">\n",
       "      <th></th>\n",
       "      <th>Category_names</th>\n",
       "      <th>F_scores</th>\n",
       "    </tr>\n",
       "  </thead>\n",
       "  <tbody>\n",
       "    <tr>\n",
       "      <th>6</th>\n",
       "      <td>Product_Category_1</td>\n",
       "      <td>58852.051269</td>\n",
       "    </tr>\n",
       "    <tr>\n",
       "      <th>8</th>\n",
       "      <td>Product_Category_3</td>\n",
       "      <td>47205.918173</td>\n",
       "    </tr>\n",
       "    <tr>\n",
       "      <th>3</th>\n",
       "      <td>City_Category</td>\n",
       "      <td>2534.870083</td>\n",
       "    </tr>\n",
       "    <tr>\n",
       "      <th>0</th>\n",
       "      <td>Gender</td>\n",
       "      <td>1947.864942</td>\n",
       "    </tr>\n",
       "    <tr>\n",
       "      <th>7</th>\n",
       "      <td>Product_Category_2</td>\n",
       "      <td>793.653066</td>\n",
       "    </tr>\n",
       "    <tr>\n",
       "      <th>2</th>\n",
       "      <td>Occupation</td>\n",
       "      <td>239.538925</td>\n",
       "    </tr>\n",
       "    <tr>\n",
       "      <th>1</th>\n",
       "      <td>Age</td>\n",
       "      <td>168.786478</td>\n",
       "    </tr>\n",
       "    <tr>\n",
       "      <th>4</th>\n",
       "      <td>Stay_In_Current_City_Years</td>\n",
       "      <td>16.083005</td>\n",
       "    </tr>\n",
       "    <tr>\n",
       "      <th>5</th>\n",
       "      <td>Marital_Status</td>\n",
       "      <td>0.008948</td>\n",
       "    </tr>\n",
       "  </tbody>\n",
       "</table>\n",
       "</div>"
      ],
      "text/plain": [
       "               Category_names      F_scores\n",
       "6          Product_Category_1  58852.051269\n",
       "8          Product_Category_3  47205.918173\n",
       "3               City_Category   2534.870083\n",
       "0                      Gender   1947.864942\n",
       "7          Product_Category_2    793.653066\n",
       "2                  Occupation    239.538925\n",
       "1                         Age    168.786478\n",
       "4  Stay_In_Current_City_Years     16.083005\n",
       "5              Marital_Status      0.008948"
      ]
     },
     "execution_count": 23,
     "metadata": {},
     "output_type": "execute_result"
    }
   ],
   "source": [
    "#Convert Product Category 2 and 3 into integers\n",
    "test_csv['Product_Category_2']=test_csv['Product_Category_2'].fillna(0).astype(int)\n",
    "test_csv['Product_Category_3']=test_csv['Product_Category_3'].fillna(0).astype(int)\n",
    "\n",
    "#remove Product ID and User ID\n",
    "data=test_csv.drop(['Product_ID','User_ID'],axis=1)\n",
    "\n",
    "#label categorical variables\n",
    "data['Gender']=data['Gender'].map( {'M': 0, 'F': 1} ).astype(int)\n",
    "data['City_Category']=data['City_Category'].map( {'A': 0, 'B': 1, 'C':2} ).astype(int)\n",
    "data['Age']=data['Age'].map( {'0-17': 0, '18-25': 1, '26-35': 2,'36-45':3,'46-50':4,\n",
    "                         '51-55':5,'55+':6} ).astype(int)\n",
    "data['Stay_In_Current_City_Years']=data['Stay_In_Current_City_Years'].map( {'0': 0, '1': 1, '2': 2,'3':3,'4+':4}).astype(int)\n",
    "\n",
    "#Get an array of feature variables X and target variable y\n",
    "X=data.drop(['Purchase'],axis=1).values\n",
    "y=data['Purchase'].values\n",
    "\n",
    "#Select features to keep based on percentile of the highest scores\n",
    "from sklearn.feature_selection import SelectPercentile\n",
    "from sklearn.feature_selection import f_regression\n",
    "Selector_f = SelectPercentile(f_regression, percentile=25)\n",
    "Selector_f.fit(X,y)\n",
    "\n",
    "#get the scores of all the features\n",
    "name_score=list(zip(data.drop(['Purchase'],axis=1).columns.tolist(),Selector_f.scores_))\n",
    "name_score_df=pd.DataFrame(data=name_score,columns=['Category_names','F_scores'])\n",
    "name_score_df.sort_values('F_scores',ascending=False)\n"
   ]
  },
  {
   "cell_type": "code",
   "execution_count": 27,
   "metadata": {},
   "outputs": [
    {
     "name": "stderr",
     "output_type": "stream",
     "text": [
      "/Users/shekhar/anaconda3/envs/PythonData/lib/python3.6/site-packages/sklearn/utils/validation.py:595: DataConversionWarning: Data with input dtype uint8 was converted to float64 by StandardScaler.\n",
      "  warnings.warn(msg, DataConversionWarning)\n",
      "/Users/shekhar/anaconda3/envs/PythonData/lib/python3.6/site-packages/sklearn/utils/validation.py:595: DataConversionWarning: Data with input dtype uint8 was converted to float64 by StandardScaler.\n",
      "  warnings.warn(msg, DataConversionWarning)\n",
      "/Users/shekhar/anaconda3/envs/PythonData/lib/python3.6/site-packages/sklearn/utils/validation.py:595: DataConversionWarning: Data with input dtype uint8 was converted to float64 by StandardScaler.\n",
      "  warnings.warn(msg, DataConversionWarning)\n"
     ]
    },
    {
     "name": "stdout",
     "output_type": "stream",
     "text": [
      "Prediction\n",
      " [13289.17399264 16161.65836764 15779.67399264 ...  7368.69743014\n",
      "  6119.22086764 16215.37711764]\n",
      "Actual\n",
      " [11394 12781 20068 ...  7957  8770 20487]\n",
      "R_squared Score: 0.6376050662493462\n"
     ]
    }
   ],
   "source": [
    "data=test_csv.copy()\n",
    "data=data[['City_Category','Product_Category_1', \n",
    "       'Product_Category_3','Purchase']]\n",
    "#One-Hot Encoding\n",
    "data=pd.get_dummies(data=data,columns=['City_Category','Product_Category_1','Product_Category_3'])\n",
    "data.columns\n",
    "#Avoid dummy variable trap by removing one category of each categorical feature after encoding but before training\n",
    "#data.drop(['City_Category_A','Product_Category_1_1','Product_Category_3_0'],axis=1,inplace=True)\n",
    "\n",
    "X=data.drop(['Purchase'],axis=1).values\n",
    "y=data['Purchase'].values\n",
    "\n",
    "from sklearn.model_selection import train_test_split\n",
    "X_train,X_test,y_train,y_test=train_test_split(X,y,test_size=0.2,random_state=0)\n",
    "\n",
    "from sklearn.preprocessing import StandardScaler\n",
    "sc_X=StandardScaler()\n",
    "X_train=sc_X.fit_transform(X_train)\n",
    "X_test=sc_X.transform(X_test)\n",
    "\n",
    "from sklearn.linear_model import LinearRegression\n",
    "regressor=LinearRegression()\n",
    "regressor.fit(X_train,y_train)\n",
    "\n",
    "y_pred=regressor.predict(X_test)\n",
    "print(\"Prediction\\n\",y_pred)\n",
    "print(\"Actual\\n\",y_test)\n",
    "\n",
    "print(\"R_squared Score:\",regressor.score(X_test,y_test))\n",
    "\n"
   ]
  },
  {
   "cell_type": "code",
   "execution_count": null,
   "metadata": {},
   "outputs": [],
   "source": []
  }
 ],
 "metadata": {
  "kernelspec": {
   "display_name": "Python 3",
   "language": "python",
   "name": "python3"
  },
  "language_info": {
   "codemirror_mode": {
    "name": "ipython",
    "version": 3
   },
   "file_extension": ".py",
   "mimetype": "text/x-python",
   "name": "python",
   "nbconvert_exporter": "python",
   "pygments_lexer": "ipython3",
   "version": "3.6.7"
  }
 },
 "nbformat": 4,
 "nbformat_minor": 2
}
