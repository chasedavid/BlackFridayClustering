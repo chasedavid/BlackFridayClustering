{
 "cells": [
  {
   "cell_type": "code",
   "execution_count": 2,
   "metadata": {},
   "outputs": [],
   "source": [
    "from sklearn.linear_model import LinearRegression \n",
    "from sklearn.metrics import r2_score\n",
    "import pandas as pd\n",
    "import numpy as np"
   ]
  },
  {
   "cell_type": "code",
   "execution_count": 38,
   "metadata": {},
   "outputs": [],
   "source": [
    "#train_csv = pd.read_csv(\"/Users/shekhar/Desktop/Bootcamp/Revision/Homework/BlackFridayClusting/data/BlackFriday_head.csv\")\n",
    "test_csv = pd.read_csv(\"/Users/shekhar/Desktop/Bootcamp/Revision/Homework/BlackFridayClusting/data/BlackFriday.csv\")\n",
    "train_csv = test_csv.head(100000)"
   ]
  },
  {
   "cell_type": "code",
   "execution_count": 39,
   "metadata": {},
   "outputs": [
    {
     "data": {
      "text/html": [
       "<div>\n",
       "<style scoped>\n",
       "    .dataframe tbody tr th:only-of-type {\n",
       "        vertical-align: middle;\n",
       "    }\n",
       "\n",
       "    .dataframe tbody tr th {\n",
       "        vertical-align: top;\n",
       "    }\n",
       "\n",
       "    .dataframe thead th {\n",
       "        text-align: right;\n",
       "    }\n",
       "</style>\n",
       "<table border=\"1\" class=\"dataframe\">\n",
       "  <thead>\n",
       "    <tr style=\"text-align: right;\">\n",
       "      <th></th>\n",
       "      <th>User_ID</th>\n",
       "      <th>Product_ID</th>\n",
       "      <th>Gender</th>\n",
       "      <th>Age</th>\n",
       "      <th>Occupation</th>\n",
       "      <th>City_Category</th>\n",
       "      <th>Stay_In_Current_City_Years</th>\n",
       "      <th>Marital_Status</th>\n",
       "      <th>Product_Category_1</th>\n",
       "      <th>Product_Category_2</th>\n",
       "      <th>Product_Category_3</th>\n",
       "      <th>Purchase</th>\n",
       "    </tr>\n",
       "  </thead>\n",
       "  <tbody>\n",
       "    <tr>\n",
       "      <th>0</th>\n",
       "      <td>1000001</td>\n",
       "      <td>P00069042</td>\n",
       "      <td>F</td>\n",
       "      <td>0-17</td>\n",
       "      <td>10</td>\n",
       "      <td>A</td>\n",
       "      <td>2</td>\n",
       "      <td>0</td>\n",
       "      <td>3</td>\n",
       "      <td>NaN</td>\n",
       "      <td>NaN</td>\n",
       "      <td>8370</td>\n",
       "    </tr>\n",
       "    <tr>\n",
       "      <th>1</th>\n",
       "      <td>1000001</td>\n",
       "      <td>P00248942</td>\n",
       "      <td>F</td>\n",
       "      <td>0-17</td>\n",
       "      <td>10</td>\n",
       "      <td>A</td>\n",
       "      <td>2</td>\n",
       "      <td>0</td>\n",
       "      <td>1</td>\n",
       "      <td>6.0</td>\n",
       "      <td>14.0</td>\n",
       "      <td>15200</td>\n",
       "    </tr>\n",
       "    <tr>\n",
       "      <th>2</th>\n",
       "      <td>1000001</td>\n",
       "      <td>P00087842</td>\n",
       "      <td>F</td>\n",
       "      <td>0-17</td>\n",
       "      <td>10</td>\n",
       "      <td>A</td>\n",
       "      <td>2</td>\n",
       "      <td>0</td>\n",
       "      <td>12</td>\n",
       "      <td>NaN</td>\n",
       "      <td>NaN</td>\n",
       "      <td>1422</td>\n",
       "    </tr>\n",
       "    <tr>\n",
       "      <th>3</th>\n",
       "      <td>1000001</td>\n",
       "      <td>P00085442</td>\n",
       "      <td>F</td>\n",
       "      <td>0-17</td>\n",
       "      <td>10</td>\n",
       "      <td>A</td>\n",
       "      <td>2</td>\n",
       "      <td>0</td>\n",
       "      <td>12</td>\n",
       "      <td>14.0</td>\n",
       "      <td>NaN</td>\n",
       "      <td>1057</td>\n",
       "    </tr>\n",
       "    <tr>\n",
       "      <th>4</th>\n",
       "      <td>1000002</td>\n",
       "      <td>P00285442</td>\n",
       "      <td>M</td>\n",
       "      <td>55+</td>\n",
       "      <td>16</td>\n",
       "      <td>C</td>\n",
       "      <td>4+</td>\n",
       "      <td>0</td>\n",
       "      <td>8</td>\n",
       "      <td>NaN</td>\n",
       "      <td>NaN</td>\n",
       "      <td>7969</td>\n",
       "    </tr>\n",
       "  </tbody>\n",
       "</table>\n",
       "</div>"
      ],
      "text/plain": [
       "   User_ID Product_ID Gender   Age  Occupation City_Category  \\\n",
       "0  1000001  P00069042      F  0-17          10             A   \n",
       "1  1000001  P00248942      F  0-17          10             A   \n",
       "2  1000001  P00087842      F  0-17          10             A   \n",
       "3  1000001  P00085442      F  0-17          10             A   \n",
       "4  1000002  P00285442      M   55+          16             C   \n",
       "\n",
       "  Stay_In_Current_City_Years  Marital_Status  Product_Category_1  \\\n",
       "0                          2               0                   3   \n",
       "1                          2               0                   1   \n",
       "2                          2               0                  12   \n",
       "3                          2               0                  12   \n",
       "4                         4+               0                   8   \n",
       "\n",
       "   Product_Category_2  Product_Category_3  Purchase  \n",
       "0                 NaN                 NaN      8370  \n",
       "1                 6.0                14.0     15200  \n",
       "2                 NaN                 NaN      1422  \n",
       "3                14.0                 NaN      1057  \n",
       "4                 NaN                 NaN      7969  "
      ]
     },
     "execution_count": 39,
     "metadata": {},
     "output_type": "execute_result"
    }
   ],
   "source": [
    "test_csv.head()"
   ]
  },
  {
   "cell_type": "code",
   "execution_count": 42,
   "metadata": {},
   "outputs": [
    {
     "data": {
      "text/plain": [
       "array([10, 16, 15,  7, 20,  9,  1, 12, 17,  0,  3,  4, 11,  8, 19,  2, 18,\n",
       "        5, 14, 13,  6])"
      ]
     },
     "execution_count": 42,
     "metadata": {},
     "output_type": "execute_result"
    }
   ],
   "source": [
    "train_csv[\"Occupation\"].unique()"
   ]
  },
  {
   "cell_type": "code",
   "execution_count": 43,
   "metadata": {},
   "outputs": [
    {
     "data": {
      "text/plain": [
       "array([10, 16, 15,  7, 20,  9,  1, 12, 17,  0,  3,  4, 11,  8, 19,  2, 18,\n",
       "        5, 14, 13,  6])"
      ]
     },
     "execution_count": 43,
     "metadata": {},
     "output_type": "execute_result"
    }
   ],
   "source": [
    "test_csv[\"Occupation\"].unique()\n"
   ]
  },
  {
   "cell_type": "code",
   "execution_count": 44,
   "metadata": {},
   "outputs": [
    {
     "data": {
      "text/plain": [
       "array(['0-17', '55+', '26-35', '46-50', '51-55', '36-45', '18-25'],\n",
       "      dtype=object)"
      ]
     },
     "execution_count": 44,
     "metadata": {},
     "output_type": "execute_result"
    }
   ],
   "source": [
    "train_csv[\"Age\"].unique()\n"
   ]
  },
  {
   "cell_type": "code",
   "execution_count": 45,
   "metadata": {},
   "outputs": [
    {
     "data": {
      "text/plain": [
       "array(['0-17', '55+', '26-35', '46-50', '51-55', '36-45', '18-25'],\n",
       "      dtype=object)"
      ]
     },
     "execution_count": 45,
     "metadata": {},
     "output_type": "execute_result"
    }
   ],
   "source": [
    "test_csv[\"Age\"].unique()"
   ]
  },
  {
   "cell_type": "code",
   "execution_count": 46,
   "metadata": {},
   "outputs": [
    {
     "data": {
      "text/plain": [
       "array(['F', 'M'], dtype=object)"
      ]
     },
     "execution_count": 46,
     "metadata": {},
     "output_type": "execute_result"
    }
   ],
   "source": [
    "test_csv[\"Gender\"].unique()"
   ]
  },
  {
   "cell_type": "code",
   "execution_count": 47,
   "metadata": {},
   "outputs": [
    {
     "data": {
      "text/plain": [
       "array([0, 1])"
      ]
     },
     "execution_count": 47,
     "metadata": {},
     "output_type": "execute_result"
    }
   ],
   "source": [
    "test_csv[\"Marital_Status\"].unique()"
   ]
  },
  {
   "cell_type": "code",
   "execution_count": 53,
   "metadata": {},
   "outputs": [],
   "source": [
    "def find_occupation(occupation):\n",
    "    switcher = {\n",
    "        10:\"10\",\n",
    "        16:\"16\",\n",
    "        15:\"15\",\n",
    "        7:\"7\",\n",
    "        20:\"20\",\n",
    "        9:\"9\",\n",
    "        1:\"1\",\n",
    "        12:\"12\",\n",
    "        17:\"17\",\n",
    "        0:\"0\",\n",
    "        3:\"3\",\n",
    "        4:\"4\",\n",
    "        11:\"11\",\n",
    "        8:\"8\",\n",
    "        19:\"19\",\n",
    "        2:\"2\",\n",
    "        18:\"18\",\n",
    "        5:\"5\",\n",
    "        14:\"14\",\n",
    "        13:\"13\",\n",
    "        6:\"6\"\n",
    "    }\n",
    "    \n",
    "    return switcher.get(occupation, \"99\")         "
   ]
  },
  {
   "cell_type": "code",
   "execution_count": 54,
   "metadata": {},
   "outputs": [],
   "source": [
    "group_list = []\n",
    "for index,row in test_csv.iterrows():\n",
    "    if (row[\"Gender\"]==\"F\" and row[\"Age\"]==\"0-17\" and row[\"Marital_Status\"]==0):\n",
    "        group_number = find_occupation(row[\"Occupation\"])\n",
    "        #print(group_number)\n",
    "        group_list.append(int(\"110\" + group_number))\n",
    "    elif (row[\"Gender\"]==\"F\" and row[\"Age\"]==\"0-17\" and row[\"Marital_Status\"]==1):\n",
    "        group_number = find_occupation(row[\"Occupation\"])\n",
    "        group_list.append(int(str(\"111\" + group_number)))\n",
    "    elif (row[\"Gender\"]==\"M\" and row[\"Age\"]==\"0-17\" and row[\"Marital_Status\"]==0):\n",
    "        group_number = find_occupation(row[\"Occupation\"])\n",
    "        group_list.append(int(str(\"210\" + group_number)))\n",
    "    elif (row[\"Gender\"]==\"M\" and row[\"Age\"]==\"0-17\" and row[\"Marital_Status\"]==1):\n",
    "        group_number = find_occupation(row[\"Occupation\"])\n",
    "        group_list.append(int(str(\"211\" + group_number))) \n",
    "    elif (row[\"Gender\"]==\"F\" and row[\"Age\"]==\"18-25\" and row[\"Marital_Status\"]==0):\n",
    "        group_number = find_occupation(row[\"Occupation\"])\n",
    "        group_list.append(int(str(\"120\" + group_number)))                          \n",
    "    elif (row[\"Gender\"]==\"F\" and row[\"Age\"]==\"18-25\" and row[\"Marital_Status\"]==1):\n",
    "        group_number = find_occupation(row[\"Occupation\"])\n",
    "        group_list.append(int(str(\"121\" + group_number)))                          \n",
    "    elif (row[\"Gender\"]==\"M\" and row[\"Age\"]==\"18-25\" and row[\"Marital_Status\"]==0):\n",
    "        group_number = find_occupation(row[\"Occupation\"])\n",
    "        group_list.append(int(str(\"220\" + group_number)))                          \n",
    "    elif (row[\"Gender\"]==\"M\" and row[\"Age\"]==\"18-25\" and row[\"Marital_Status\"]==1):\n",
    "        group_number = find_occupation(row[\"Occupation\"])\n",
    "        group_list.append(int(str(\"221\" + group_number)))                          \n",
    "    elif (row[\"Gender\"]==\"F\" and row[\"Age\"]==\"26-35\" and row[\"Marital_Status\"]==0):\n",
    "        group_number = find_occupation(row[\"Occupation\"])\n",
    "        group_list.append(int(str(\"130\" + group_number)))                          \n",
    "    elif (row[\"Gender\"]==\"F\" and row[\"Age\"]==\"26-35\" and row[\"Marital_Status\"]==1):\n",
    "        group_number = find_occupation(row[\"Occupation\"])\n",
    "        group_list.append(int(str(\"131\" + group_number)))                          \n",
    "    elif (row[\"Gender\"]==\"M\" and row[\"Age\"]==\"26-35\" and row[\"Marital_Status\"]==0):\n",
    "        group_number = find_occupation(row[\"Occupation\"])\n",
    "        group_list.append(int(str(\"230\" + group_number)))                          \n",
    "    elif (row[\"Gender\"]==\"M\" and row[\"Age\"]==\"26-35\" and row[\"Marital_Status\"]==1):\n",
    "        group_number = find_occupation(row[\"Occupation\"])\n",
    "        group_list.append(int(str(\"231\" + group_number)))       \n",
    "    elif (row[\"Gender\"]==\"F\" and row[\"Age\"]==\"36-45\" and row[\"Marital_Status\"]==0):\n",
    "        group_number = find_occupation(row[\"Occupation\"])\n",
    "        group_list.append(int(str(\"140\" + group_number)))       \n",
    "    elif (row[\"Gender\"]==\"F\" and row[\"Age\"]==\"36-45\" and row[\"Marital_Status\"]==1):\n",
    "        group_number = find_occupation(row[\"Occupation\"])\n",
    "        group_list.append(int(str(\"141\" + group_number)))       \n",
    "    elif (row[\"Gender\"]==\"M\" and row[\"Age\"]==\"36-45\" and row[\"Marital_Status\"]==0):\n",
    "        group_number = find_occupation(row[\"Occupation\"])\n",
    "        group_list.append(int(str(\"240\" + group_number))) \n",
    "    elif (row[\"Gender\"]==\"M\" and row[\"Age\"]==\"36-45\" and row[\"Marital_Status\"]==1):\n",
    "        group_number = find_occupation(row[\"Occupation\"])\n",
    "        group_list.append(int(str(\"241\" + group_number)))    \n",
    "    elif (row[\"Gender\"]==\"F\" and row[\"Age\"]==\"46-50\" and row[\"Marital_Status\"]==0):\n",
    "        group_number = find_occupation(row[\"Occupation\"])\n",
    "        group_list.append(int(str(\"150\" + group_number)))   \n",
    "    elif (row[\"Gender\"]==\"F\" and row[\"Age\"]==\"46-50\" and row[\"Marital_Status\"]==1):\n",
    "        group_number = find_occupation(row[\"Occupation\"])\n",
    "        group_list.append(int(str(\"151\" + group_number)))  \n",
    "    elif (row[\"Gender\"]==\"M\" and row[\"Age\"]==\"46-50\" and row[\"Marital_Status\"]==0):\n",
    "        group_number = find_occupation(row[\"Occupation\"])\n",
    "        group_list.append(int(str(\"250\" + group_number)))    \n",
    "    elif (row[\"Gender\"]==\"M\" and row[\"Age\"]==\"46-50\" and row[\"Marital_Status\"]==1):\n",
    "        group_number = find_occupation(row[\"Occupation\"])\n",
    "        group_list.append(int(str(\"251\" + group_number)))  \n",
    "    elif (row[\"Gender\"]==\"F\" and row[\"Age\"]==\"51-55\" and row[\"Marital_Status\"]==0):\n",
    "        group_number = find_occupation(row[\"Occupation\"])\n",
    "        group_list.append(int(str(\"160\" + group_number))) \n",
    "    elif (row[\"Gender\"]==\"F\" and row[\"Age\"]==\"51-55\" and row[\"Marital_Status\"]==1):\n",
    "        group_number = find_occupation(row[\"Occupation\"])\n",
    "        group_list.append(int(str(\"161\" + group_number))) \n",
    "    elif (row[\"Gender\"]==\"M\" and row[\"Age\"]==\"51-55\" and row[\"Marital_Status\"]==0):\n",
    "        group_number = find_occupation(row[\"Occupation\"])\n",
    "        group_list.append(int(str(\"260\" + group_number)))   \n",
    "    elif (row[\"Gender\"]==\"M\" and row[\"Age\"]==\"51-55\" and row[\"Marital_Status\"]==1):\n",
    "        group_number = find_occupation(row[\"Occupation\"])\n",
    "        group_list.append(int(str(\"261\" + group_number))) \n",
    "    elif (row[\"Gender\"]==\"F\" and row[\"Age\"]==\"55+\" and row[\"Marital_Status\"]==0):\n",
    "        group_number = find_occupation(row[\"Occupation\"])\n",
    "        group_list.append(int(str(\"170\" + group_number)))  \n",
    "    elif (row[\"Gender\"]==\"F\" and row[\"Age\"]==\"55+\" and row[\"Marital_Status\"]==1):\n",
    "        group_number = find_occupation(row[\"Occupation\"])\n",
    "        group_list.append(int(str(\"171\" + group_number)))  \n",
    "    elif (row[\"Gender\"]==\"M\" and row[\"Age\"]==\"55+\" and row[\"Marital_Status\"]==0):\n",
    "        group_number = find_occupation(row[\"Occupation\"])\n",
    "        group_list.append(int(str(\"270\" + group_number)))   \n",
    "    elif (row[\"Gender\"]==\"M\" and row[\"Age\"]==\"55+\" and row[\"Marital_Status\"]==1):\n",
    "        group_number = find_occupation(row[\"Occupation\"])\n",
    "        group_list.append(int(str(\"271\" + group_number)))  "
   ]
  },
  {
   "cell_type": "code",
   "execution_count": 55,
   "metadata": {},
   "outputs": [],
   "source": [
    "test_csv[\"Group\"] = pd.Series(group_list)\n"
   ]
  },
  {
   "cell_type": "code",
   "execution_count": 56,
   "metadata": {},
   "outputs": [
    {
     "data": {
      "text/plain": [
       "User_ID                       537577\n",
       "Product_ID                    537577\n",
       "Gender                        537577\n",
       "Age                           537577\n",
       "Occupation                    537577\n",
       "City_Category                 537577\n",
       "Stay_In_Current_City_Years    537577\n",
       "Marital_Status                537577\n",
       "Product_Category_1            537577\n",
       "Product_Category_2            370591\n",
       "Product_Category_3            164278\n",
       "Purchase                      537577\n",
       "Group                         537577\n",
       "dtype: int64"
      ]
     },
     "execution_count": 56,
     "metadata": {},
     "output_type": "execute_result"
    }
   ],
   "source": [
    "test_csv.count()"
   ]
  },
  {
   "cell_type": "code",
   "execution_count": 59,
   "metadata": {},
   "outputs": [
    {
     "name": "stdout",
     "output_type": "stream",
     "text": [
      "[11010 11010 11010 ...  2204  2204  2204]\n"
     ]
    }
   ],
   "source": [
    "x_train = train_csv['Group']\n",
    "y_train = train_csv['Purchase']\n",
    "x_test = test_csv['Group']\n",
    "y_test = test_csv['Purchase']\n",
    "\n",
    "x_train = np.array(x_train)\n",
    "y_train = np.array(y_train)\n",
    "\n",
    "x_test = np.array(x_test)\n",
    "y_test = np.array(y_test)\n",
    "\n",
    "x_train = x_train.reshape(-1,1)\n",
    "x_test = x_test.reshape(-1,1)"
   ]
  },
  {
   "cell_type": "code",
   "execution_count": 58,
   "metadata": {},
   "outputs": [
    {
     "name": "stdout",
     "output_type": "stream",
     "text": [
      "0.0011414671177045754\n"
     ]
    }
   ],
   "source": [
    "clf = LinearRegression(normalize=True)\n",
    "clf.fit(x_train,y_train)\n",
    "y_pred = clf.predict(x_test)\n",
    "print(r2_score(y_test,y_pred))"
   ]
  },
  {
   "cell_type": "code",
   "execution_count": 60,
   "metadata": {},
   "outputs": [
    {
     "name": "stdout",
     "output_type": "stream",
     "text": [
      "[ 3  1 12 ...  2  5  5]\n"
     ]
    }
   ],
   "source": [
    "x_train = train_csv['Group']\n",
    "y_train = train_csv['Product_Category_1']\n",
    "x_test = test_csv['Group']\n",
    "y_test = test_csv['Product_Category_1']\n",
    "\n",
    "x_train = np.array(x_train)\n",
    "y_train = np.array(y_train)\n",
    "x_test = np.array(x_test)\n",
    "y_test = np.array(y_test)\n",
    "\n",
    "x_train = x_train.reshape(-1,1)\n",
    "x_test = x_test.reshape(-1,1)"
   ]
  },
  {
   "cell_type": "code",
   "execution_count": 61,
   "metadata": {},
   "outputs": [
    {
     "name": "stdout",
     "output_type": "stream",
     "text": [
      "0.0001718817194638067\n"
     ]
    }
   ],
   "source": [
    "clf = LinearRegression(normalize=True)\n",
    "clf.fit(x_train,y_train)\n",
    "y_pred = clf.predict(x_test)\n",
    "print(r2_score(y_test,y_pred))\n"
   ]
  },
  {
   "cell_type": "code",
   "execution_count": 3,
   "metadata": {},
   "outputs": [
    {
     "ename": "NameError",
     "evalue": "name 'test_csv' is not defined",
     "output_type": "error",
     "traceback": [
      "\u001b[0;31m---------------------------------------------------------------------------\u001b[0m",
      "\u001b[0;31mNameError\u001b[0m                                 Traceback (most recent call last)",
      "\u001b[0;32m<ipython-input-3-c2813a354137>\u001b[0m in \u001b[0;36m<module>\u001b[0;34m\u001b[0m\n\u001b[1;32m      1\u001b[0m \u001b[0;31m#Convert Product Category 2 and 3 into integers\u001b[0m\u001b[0;34m\u001b[0m\u001b[0;34m\u001b[0m\u001b[0;34m\u001b[0m\u001b[0m\n\u001b[0;32m----> 2\u001b[0;31m \u001b[0mtest_csv\u001b[0m\u001b[0;34m[\u001b[0m\u001b[0;34m\"Product_Category_2\"\u001b[0m\u001b[0;34m]\u001b[0m\u001b[0;34m=\u001b[0m\u001b[0mtest_csv\u001b[0m\u001b[0;34m[\u001b[0m\u001b[0;34m'Product_Category_2'\u001b[0m\u001b[0;34m]\u001b[0m\u001b[0;34m.\u001b[0m\u001b[0mastype\u001b[0m\u001b[0;34m(\u001b[0m\u001b[0mint\u001b[0m\u001b[0;34m)\u001b[0m\u001b[0;34m\u001b[0m\u001b[0;34m\u001b[0m\u001b[0m\n\u001b[0m\u001b[1;32m      3\u001b[0m \u001b[0mtest_csv\u001b[0m\u001b[0;34m[\u001b[0m\u001b[0;34m'Product_Category_3'\u001b[0m\u001b[0;34m]\u001b[0m\u001b[0;34m=\u001b[0m\u001b[0mtest_csv\u001b[0m\u001b[0;34m[\u001b[0m\u001b[0;34m'Product_Category_3'\u001b[0m\u001b[0;34m]\u001b[0m\u001b[0;34m.\u001b[0m\u001b[0mastype\u001b[0m\u001b[0;34m(\u001b[0m\u001b[0mint\u001b[0m\u001b[0;34m)\u001b[0m\u001b[0;34m\u001b[0m\u001b[0;34m\u001b[0m\u001b[0m\n\u001b[1;32m      4\u001b[0m \u001b[0;34m\u001b[0m\u001b[0m\n\u001b[1;32m      5\u001b[0m \u001b[0;31m#remove Product ID and User ID\u001b[0m\u001b[0;34m\u001b[0m\u001b[0;34m\u001b[0m\u001b[0;34m\u001b[0m\u001b[0m\n",
      "\u001b[0;31mNameError\u001b[0m: name 'test_csv' is not defined"
     ]
    }
   ],
   "source": []
  },
  {
   "cell_type": "code",
   "execution_count": null,
   "metadata": {},
   "outputs": [],
   "source": []
  }
 ],
 "metadata": {
  "kernelspec": {
   "display_name": "Python 3",
   "language": "python",
   "name": "python3"
  },
  "language_info": {
   "codemirror_mode": {
    "name": "ipython",
    "version": 3
   },
   "file_extension": ".py",
   "mimetype": "text/x-python",
   "name": "python",
   "nbconvert_exporter": "python",
   "pygments_lexer": "ipython3",
   "version": "3.6.7"
  }
 },
 "nbformat": 4,
 "nbformat_minor": 2
}
